{
  "nbformat": 4,
  "nbformat_minor": 0,
  "metadata": {
    "colab": {
      "name": "Untitled2.ipynb",
      "provenance": [],
      "collapsed_sections": [],
      "authorship_tag": "ABX9TyNTlFvg/oR4fLLBPTYMJqGK",
      "include_colab_link": true
    },
    "kernelspec": {
      "name": "python3",
      "display_name": "Python 3"
    }
  },
  "cells": [
    {
      "cell_type": "markdown",
      "metadata": {
        "id": "view-in-github",
        "colab_type": "text"
      },
      "source": [
        "<a href=\"https://colab.research.google.com/github/bondchan88/gitsample/blob/master/kataomoifollower.ipynb\" target=\"_parent\"><img src=\"https://colab.research.google.com/assets/colab-badge.svg\" alt=\"Open In Colab\"/></a>"
      ]
    },
    {
      "cell_type": "code",
      "metadata": {
        "colab": {
          "base_uri": "https://localhost:8080/"
        },
        "id": "zUKHeAAnDa3x",
        "outputId": "4c56aa14-b671-47dc-c888-35a5fe6e2126"
      },
      "source": [
        "import requests\n",
        "import json\n",
        " #API_URL \n",
        "api_url=\"https://note.com/api/v1/followers/obenkyousimasyou/list?page=1\"\n",
        " #API_URLを投げる \n",
        "res = requests.get(api_url)\n",
        " #jsonに変換 \n",
        "jsonData = res.json()\n",
        " #data配列取り出し \n",
        "data = jsonData[\"data\"]\n",
        " #followers_list配列取り出し \n",
        "followers_list = data[\"followers_list\"]\n",
        " #urlnameを取り出し \n",
        "for i in followers_list:\n",
        " print(i[\"urlname\"])"
      ],
      "execution_count": 3,
      "outputs": [
        {
          "output_type": "stream",
          "text": [
            "diary2\n",
            "review08\n",
            "yamahirosauna\n",
            "jinvestment\n",
            "kozenibito\n",
            "panda_68\n",
            "miyabi7000\n",
            "ehimesr\n",
            "youkenichi\n",
            "ws85\n",
            "syakai_hutekigou\n",
            "girls_study_com\n"
          ],
          "name": "stdout"
        }
      ]
    }
  ]
}